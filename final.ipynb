{
  "nbformat": 4,
  "nbformat_minor": 0,
  "metadata": {
    "colab": {
      "provenance": []
    },
    "kernelspec": {
      "name": "python3",
      "display_name": "Python 3"
    },
    "language_info": {
      "name": "python"
    }
  },
  "cells": [
    {
      "cell_type": "code",
      "execution_count": 7,
      "metadata": {
        "colab": {
          "base_uri": "https://localhost:8080/"
        },
        "id": "AASinS2TT-R8",
        "outputId": "b2382a5b-a4ba-4c41-aabf-c60df84dbbed"
      },
      "outputs": [
        {
          "output_type": "stream",
          "name": "stdout",
          "text": [
            "Howdy Planet!\n"
          ]
        }
      ],
      "source": [
        "#Final Question #5ii\n",
        "\n",
        "def howdy_planet ():\n",
        "  print (\"Howdy Planet!\")\n",
        "\n",
        "howdy_planet()"
      ]
    },
    {
      "cell_type": "code",
      "source": [
        "# Final Exam Question 5iii\n",
        "\n",
        "directions = [\"North\", \"South\", \"East\", \"West\"]\n",
        "\n",
        "for cardinal directions in directions:\n",
        "  print (cardinal directions)"
      ],
      "metadata": {
        "colab": {
          "base_uri": "https://localhost:8080/"
        },
        "id": "lcHHOVh-UJUS",
        "outputId": "f4005f5b-0a1a-46d7-e828-215cdca2fe75"
      },
      "execution_count": 9,
      "outputs": [
        {
          "output_type": "stream",
          "name": "stdout",
          "text": [
            "North\n",
            "South\n",
            "East\n",
            "West\n"
          ]
        }
      ]
    },
    {
      "cell_type": "code",
      "source": [],
      "metadata": {
        "id": "2yTTKOA4WCOR"
      },
      "execution_count": null,
      "outputs": []
    }
  ]
}